{
 "cells": [
  {
   "cell_type": "code",
   "execution_count": 1,
   "metadata": {},
   "outputs": [
    {
     "ename": "FileNotFoundError",
     "evalue": "[WinError 3] 系統找不到指定的路徑。: 'kalman_backtest_data_2023_7_28'",
     "output_type": "error",
     "traceback": [
      "\u001b[1;31m---------------------------------------------------------------------------\u001b[0m",
      "\u001b[1;31mFileNotFoundError\u001b[0m                         Traceback (most recent call last)",
      "\u001b[1;32mh:\\OneDrive - The Hong Kong Polytechnic University\\Algo_trade_live\\combine_whole_result.ipynb Cell 1\u001b[0m line \u001b[0;36m1\n\u001b[0;32m     <a href='vscode-notebook-cell:/h%3A/OneDrive%20-%20The%20Hong%20Kong%20Polytechnic%20University/Algo_trade_live/combine_whole_result.ipynb#W0sZmlsZQ%3D%3D?line=15'>16</a>\u001b[0m output_file \u001b[39m=\u001b[39m \u001b[39m\"\u001b[39m\u001b[39mKalman_all_2023_7_28.csv\u001b[39m\u001b[39m\"\u001b[39m  \u001b[39m# Name of the output CSV file\u001b[39;00m\n\u001b[0;32m     <a href='vscode-notebook-cell:/h%3A/OneDrive%20-%20The%20Hong%20Kong%20Polytechnic%20University/Algo_trade_live/combine_whole_result.ipynb#W0sZmlsZQ%3D%3D?line=17'>18</a>\u001b[0m \u001b[39m# Get a list of all CSV files in the folder\u001b[39;00m\n\u001b[1;32m---> <a href='vscode-notebook-cell:/h%3A/OneDrive%20-%20The%20Hong%20Kong%20Polytechnic%20University/Algo_trade_live/combine_whole_result.ipynb#W0sZmlsZQ%3D%3D?line=18'>19</a>\u001b[0m csv_files \u001b[39m=\u001b[39m [file \u001b[39mfor\u001b[39;00m file \u001b[39min\u001b[39;00m os\u001b[39m.\u001b[39;49mlistdir(folder_path) \u001b[39mif\u001b[39;00m file\u001b[39m.\u001b[39mendswith(\u001b[39m\"\u001b[39m\u001b[39m.csv\u001b[39m\u001b[39m\"\u001b[39m)]\n\u001b[0;32m     <a href='vscode-notebook-cell:/h%3A/OneDrive%20-%20The%20Hong%20Kong%20Polytechnic%20University/Algo_trade_live/combine_whole_result.ipynb#W0sZmlsZQ%3D%3D?line=20'>21</a>\u001b[0m \u001b[39m# Create an empty DataFrame to store the last rows\u001b[39;00m\n\u001b[0;32m     <a href='vscode-notebook-cell:/h%3A/OneDrive%20-%20The%20Hong%20Kong%20Polytechnic%20University/Algo_trade_live/combine_whole_result.ipynb#W0sZmlsZQ%3D%3D?line=21'>22</a>\u001b[0m output_df \u001b[39m=\u001b[39m pd\u001b[39m.\u001b[39mDataFrame(columns\u001b[39m=\u001b[39m[\u001b[39m\"\u001b[39m\u001b[39mPair\u001b[39m\u001b[39m\"\u001b[39m] \u001b[39m+\u001b[39m pd\u001b[39m.\u001b[39mread_csv(os\u001b[39m.\u001b[39mpath\u001b[39m.\u001b[39mjoin(folder_path, csv_files[\u001b[39m0\u001b[39m]))\u001b[39m.\u001b[39mcolumns\u001b[39m.\u001b[39mtolist())\n",
      "\u001b[1;31mFileNotFoundError\u001b[0m: [WinError 3] 系統找不到指定的路徑。: 'kalman_backtest_data_2023_7_28'"
     ]
    }
   ],
   "source": [
    "import pandas as pd\n",
    "import os\n",
    "from tqdm import tqdm\n",
    "import datetime as dt\n",
    "\n",
    "def get_substring_before_character(input_string, character):\n",
    "    index = input_string.find(character)\n",
    "    if index != -1:\n",
    "        return input_string[:index]\n",
    "    else:\n",
    "        return input_string\n",
    "    \n",
    "date = dt.datetime.now()\n",
    "date ='%s_%s_%s'%(date.year,date.month,date.day)\n",
    "folder_path = 'kalman_backtest_data_2023_7_28'  # Replace with the path to your folder\n",
    "output_file = \"Kalman_all_2023_7_28.csv\"  # Name of the output CSV file\n",
    "\n",
    "# Get a list of all CSV files in the folder\n",
    "csv_files = [file for file in os.listdir(folder_path) if file.endswith(\".csv\")]\n",
    "\n",
    "# Create an empty DataFrame to store the last rows\n",
    "output_df = pd.DataFrame(columns=[\"Pair\"] + pd.read_csv(os.path.join(folder_path, csv_files[0])).columns.tolist())\n",
    "\n",
    "# Process each CSV file\n",
    "for csv_file in tqdm(csv_files):\n",
    "    file_path = os.path.join(folder_path, csv_file)\n",
    "    df = pd.read_csv(file_path)\n",
    "    print (csv_file,df)\n",
    "    # Get the last row of the DataFrame\n",
    "    df = df.cumsum(skipna=True)\n",
    "    last_row = df.tail(1)\n",
    "\n",
    "    pair_name = get_substring_before_character(csv_file,'-')\n",
    "    # Append the last row to the output DataFrame\n",
    "    row_data = [csv_file] + last_row.values.tolist()[0]\n",
    "    output_df.loc[len(output_df)] = row_data\n",
    "\n",
    "# Save the output DataFrame to a CSV file\n",
    "output_df.to_csv(output_file, index=False)\n",
    "\n",
    "print(\"Output CSV file created successfully.\")"
   ]
  },
  {
   "cell_type": "code",
   "execution_count": null,
   "metadata": {},
   "outputs": [],
   "source": []
  }
 ],
 "metadata": {
  "kernelspec": {
   "display_name": "backtest",
   "language": "python",
   "name": "python3"
  },
  "language_info": {
   "codemirror_mode": {
    "name": "ipython",
    "version": 3
   },
   "file_extension": ".py",
   "mimetype": "text/x-python",
   "name": "python",
   "nbconvert_exporter": "python",
   "pygments_lexer": "ipython3",
   "version": "3.8.13"
  },
  "orig_nbformat": 4
 },
 "nbformat": 4,
 "nbformat_minor": 2
}

{
 "cells": [
  {
   "cell_type": "code",
   "execution_count": 1,
   "metadata": {},
   "outputs": [],
   "source": [
    "#import pairs_backtest as pb\n",
    "import datetime as dt #in-built module\n",
    "import pandas as pd\n",
    "from pandas_datareader import data\n",
    "import yfinance as yf\n",
    "from yahoo_fin import stock_info as si\n",
    "import matplotlib.pyplot as plt\n",
    "from matplotlib import style\n",
    "from pathlib import Path\n",
    "import os\n",
    "from tqdm import tqdm   \n",
    "import glob\n",
    "import datetime as dt\n",
    "from pandas_datareader import data as pdr\n",
    "\n",
    "from pairs_backtest import kalman_lib as kalman\n",
    "from pairs_backtest import find_pairs\n",
    "from pairs_backtest import utils\n",
    "import ib_insync \n",
    "\n",
    "import IB_pairs_trading_3 as lib\n",
    "ib_insync.util.startLoop()  # only use in interactive environments (i.e. Jupyter Notebooks)\n",
    "\n",
    "\n",
    "def delete_folder_contents(folder_path):\n",
    "    # Iterate over all the items in the folder\n",
    "    for item in os.listdir(folder_path):\n",
    "        item_path = os.path.join(folder_path, item)\n",
    "\n",
    "        # Check if the item is a file\n",
    "        if os.path.isfile(item_path):\n",
    "            # Delete the file\n",
    "            os.remove(item_path)\n",
    "        # Check if the item is a subfolder\n",
    "        elif os.path.isdir(item_path):\n",
    "            # Recursively delete the subfolder and its contents\n",
    "            delete_folder_contents(item_path)\n",
    "            # Delete the empty subfolder\n",
    "            os.rmdir(item_path)\n"
   ]
  },
  {
   "cell_type": "code",
   "execution_count": 2,
   "metadata": {},
   "outputs": [
    {
     "name": "stdout",
     "output_type": "stream",
     "text": [
      "sleeping 10 seconds\n"
     ]
    }
   ],
   "source": [
    "## Use this parcel if you want to FULLY automate your python script\n",
    "## for more infor, please reach to IBC\n",
    "## link: https://github.com/IbcAlpha/IBC\n",
    "## this parcel will automatically open and log in your IB account\n",
    "from subprocess import Popen\n",
    "p = Popen('StartTWS.bat',cwd = r\"C:\\IBC\", shell = True)\n",
    "stdout, stderr = p.communicate()\n",
    "\n",
    "import time\n",
    "time.sleep(10)\n",
    "print(\"sleeping 10 seconds\")"
   ]
  },
  {
   "cell_type": "code",
   "execution_count": 5,
   "metadata": {},
   "outputs": [],
   "source": [
    "date = dt.datetime.now()\n",
    "date ='%s_%s_%s'%(date.year,date.month,date.day)\n",
    "backtest_day = 730\n",
    "len_constrain_day =  365\n",
    "capital = 13000\n",
    "market = 'US'\n",
    "ACCOUNT_ID = 'U12191682'\n",
    "#market = 'HK'\n",
    "start = dt.datetime.now()- dt.timedelta(days=backtest_day)\n",
    "end = dt.datetime.now()\n",
    "#TypeOfFindingParis = 'allUS' #last_result or 'allUS' or 'allUS_NAS'\n",
    "TypeOfFindingParis = 'last_result'"
   ]
  },
  {
   "cell_type": "code",
   "execution_count": 7,
   "metadata": {},
   "outputs": [
    {
     "name": "stdout",
     "output_type": "stream",
     "text": [
      "Selected to online mode\n"
     ]
    },
    {
     "name": "stderr",
     "output_type": "stream",
     "text": [
      "Peer closed connection. clientId 1 already in use?\n",
      "API connection failed: TimeoutError()\n"
     ]
    },
    {
     "name": "stdout",
     "output_type": "stream",
     "text": [
      "can't connect to IB API, now try to connect to another cllientID\n",
      "Connected to IB API\n"
     ]
    },
    {
     "data": {
      "text/plain": [
       "[{'symbol': 'AEP', 'position': -82.0, 'avgCost': 84.30696465},\n",
       " {'symbol': 'OXY', 'position': -111.0, 'avgCost': 57.9953162},\n",
       " {'symbol': 'PTC', 'position': 37.0, 'avgCost': 173.97702705},\n",
       " {'symbol': 'DLTR', 'position': 41.0, 'avgCost': 148.62439025}]"
      ]
     },
     "execution_count": 7,
     "metadata": {},
     "output_type": "execute_result"
    },
    {
     "name": "stderr",
     "output_type": "stream",
     "text": [
      "Peer closed connection.\n"
     ]
    }
   ],
   "source": [
    "pair1 = lib.ib_pt(backtest_day= backtest_day, len_constrain_day= len_constrain_day, start_date = start, end_date = end\n",
    "                     ,coint_pairs_type =TypeOfFindingParis ,account = ACCOUNT_ID, capital = capital)"
   ]
  },
  {
   "cell_type": "code",
   "execution_count": 35,
   "metadata": {},
   "outputs": [],
   "source": [
    "ACCOUNT_ID = 'U12191682'\n",
    "ib = ib_insync.IB()"
   ]
  },
  {
   "cell_type": "code",
   "execution_count": 37,
   "metadata": {},
   "outputs": [
    {
     "name": "stderr",
     "output_type": "stream",
     "text": [
      "account updates request timed out\n"
     ]
    },
    {
     "data": {
      "text/plain": [
       "<IB connected to 127.0.0.1:4001 clientId=3>"
      ]
     },
     "execution_count": 37,
     "metadata": {},
     "output_type": "execute_result"
    },
    {
     "name": "stderr",
     "output_type": "stream",
     "text": [
      "Error 1100, reqId -1: Connectivity between IB and Trader Workstation has been lost.\n",
      "Error 1100, reqId -1: Connectivity between IB and Trader Workstation has been lost.\n",
      "Error 1102, reqId -1: Connectivity between IB and Trader Workstation has been restored - data maintained. All data farms are connected: usfarm.nj; hfarm; jfarm; cashfarm; eufarmnj; usfarm; euhmds; cashhmds; hkhmds; fundfarm; ushmds; secdefhk.\n",
      "Error 1100, reqId -1: Connectivity between IB and Trader Workstation has been lost.\n",
      "Error 1100, reqId -1: Connectivity between IB and Trader Workstation has been lost.\n",
      "[WinError 10054] 遠端主機已強制關閉一個現存的連線。\n"
     ]
    }
   ],
   "source": [
    "ib.connect(host='127.0.0.1', port=4001, account = 'U5798812',clientId=3, timeout = 5.0) #TWS"
   ]
  },
  {
   "cell_type": "code",
   "execution_count": 45,
   "metadata": {},
   "outputs": [
    {
     "data": {
      "text/plain": [
       "[Position(account='U5798812', contract=Stock(conId=537765515, symbol='SQQQ', exchange='NASDAQ', currency='USD', localSymbol='SQQQ', tradingClass='NMS'), position=650.0, avgCost=11.615),\n",
       " Position(account='U5798812', contract=Stock(conId=543859629, symbol='GLDM', exchange='ARCA', currency='USD', localSymbol='GLDM', tradingClass='GLDM'), position=100.0, avgCost=41.585),\n",
       " Position(account='U5798812', contract=Stock(conId=6223250, symbol='TSM', exchange='NYSE', currency='USD', localSymbol='TSM', tradingClass='TSM'), position=30.0, avgCost=110.9898),\n",
       " Position(account='U5798812', contract=Stock(conId=11926119, symbol='CNQ', exchange='NYSE', currency='USD', localSymbol='CNQ', tradingClass='CNQ'), position=80.0, avgCost=69.528125),\n",
       " Position(account='U5798812', contract=Stock(conId=196616907, symbol='BLD', exchange='NYSE', currency='USD', localSymbol='BLD', tradingClass='BLD'), position=20.0, avgCost=386.2625),\n",
       " Position(account='U5798812', contract=Stock(conId=459530964, symbol='ABNB', exchange='NASDAQ', currency='USD', localSymbol='ABNB', tradingClass='NMS'), position=45.0, avgCost=157.23454545),\n",
       " Position(account='U5798812', contract=Stock(conId=356068332, symbol='FUTU', exchange='NASDAQ', currency='USD', localSymbol='FUTU', tradingClass='NMS'), position=100.0, avgCost=56.45),\n",
       " Position(account='U5798812', contract=Stock(conId=211651685, symbol='URA', exchange='ARCA', currency='USD', localSymbol='URA', tradingClass='URA'), position=220.0, avgCost=29.4199091)]"
      ]
     },
     "execution_count": 45,
     "metadata": {},
     "output_type": "execute_result"
    }
   ],
   "source": [
    "ib.positions(account='U5798812')"
   ]
  },
  {
   "cell_type": "code",
   "execution_count": null,
   "metadata": {},
   "outputs": [],
   "source": [
    "ib.disconnect()"
   ]
  },
  {
   "cell_type": "code",
   "execution_count": null,
   "metadata": {},
   "outputs": [],
   "source": [
    "#pair1.check_all_current_pairs()"
   ]
  },
  {
   "cell_type": "code",
   "execution_count": null,
   "metadata": {},
   "outputs": [],
   "source": [
    "pair1.run_strategy()"
   ]
  },
  {
   "cell_type": "code",
   "execution_count": null,
   "metadata": {},
   "outputs": [],
   "source": [
    "pair1.close_ib()"
   ]
  },
  {
   "cell_type": "code",
   "execution_count": null,
   "metadata": {},
   "outputs": [],
   "source": [
    "axes_tuple = kalman.py_plot(pair1.df_list[pair1.no_of_pairs-1],\n",
    "                            date,\n",
    "                            pair1.first_inst[pair1.no_of_pairs-1],\n",
    "                            pair1.second_inst[pair1.no_of_pairs-1],\n",
    "\n",
    "                            is_close = False)"
   ]
  },
  {
   "cell_type": "code",
   "execution_count": null,
   "metadata": {},
   "outputs": [],
   "source": [
    "pair1.first_inst[pair1.no_of_pairs-1], pair1.second_inst[pair1.no_of_pairs-1]"
   ]
  },
  {
   "cell_type": "markdown",
   "metadata": {},
   "source": [
    "coint_pairs_type = allUS_S&P ,  allUS_NAS, last_result_S&P, last_result_NAS"
   ]
  },
  {
   "cell_type": "code",
   "execution_count": null,
   "metadata": {},
   "outputs": [],
   "source": [
    "pair2 = lib.ib_pt(backtest_day= backtest_day, len_constrain_day= len_constrain_day, start_date = start, end_date = end\n",
    "                     ,coint_pairs_type = 'last_result_S&P' ,capital = capital)\n"
   ]
  },
  {
   "cell_type": "code",
   "execution_count": null,
   "metadata": {},
   "outputs": [],
   "source": [
    "pair2.run_strategy()"
   ]
  },
  {
   "cell_type": "code",
   "execution_count": null,
   "metadata": {},
   "outputs": [],
   "source": [
    "axes_tuple = kalman.py_plot(pair2.df_list[pair2.no_of_pairs-1],\n",
    "                            date,\n",
    "                            pair2.first_inst[pair2.no_of_pairs-1],\n",
    "                            pair2.second_inst[pair2.no_of_pairs-1],\n",
    "                            is_close = False)"
   ]
  },
  {
   "cell_type": "code",
   "execution_count": null,
   "metadata": {},
   "outputs": [],
   "source": [
    "pair2.first_inst[pair2.no_of_pairs-1],pair2.second_inst[pair2.no_of_pairs-1]"
   ]
  },
  {
   "cell_type": "code",
   "execution_count": null,
   "metadata": {},
   "outputs": [],
   "source": [
    "pair2.close_ib()"
   ]
  },
  {
   "cell_type": "code",
   "execution_count": null,
   "metadata": {},
   "outputs": [],
   "source": [
    "pair2.df_list"
   ]
  },
  {
   "cell_type": "code",
   "execution_count": null,
   "metadata": {},
   "outputs": [],
   "source": []
  },
  {
   "cell_type": "code",
   "execution_count": null,
   "metadata": {},
   "outputs": [],
   "source": []
  }
 ],
 "metadata": {
  "kernelspec": {
   "display_name": "backtest",
   "language": "python",
   "name": "python3"
  },
  "language_info": {
   "codemirror_mode": {
    "name": "ipython",
    "version": 3
   },
   "file_extension": ".py",
   "mimetype": "text/x-python",
   "name": "python",
   "nbconvert_exporter": "python",
   "pygments_lexer": "ipython3",
   "version": "undefined.undefined.undefined"
  },
  "orig_nbformat": 4
 },
 "nbformat": 4,
 "nbformat_minor": 2
}
